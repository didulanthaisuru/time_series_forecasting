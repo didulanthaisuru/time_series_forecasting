{
 "cells": [
  {
   "metadata": {
    "ExecuteTime": {
     "end_time": "2025-03-19T11:00:39.001227Z",
     "start_time": "2025-03-19T11:00:38.900917Z"
    }
   },
   "cell_type": "code",
   "source": [
    "# Step 1: Import necessary libraries\n",
    "import pandas as pd\n",
    "import re\n",
    "from sentence_transformers import SentenceTransformer\n",
    "import hdbscan\n",
    "import numpy as np\n",
    "import time\n",
    "from sklearn.preprocessing import StandardScaler\n"
   ],
   "id": "9e948308394c4d27",
   "outputs": [],
   "execution_count": 6
  },
  {
   "metadata": {
    "ExecuteTime": {
     "end_time": "2025-03-19T11:00:51.763970Z",
     "start_time": "2025-03-19T11:00:50.875420Z"
    }
   },
   "cell_type": "code",
   "source": "df=pd.read_excel('nadilFInalizedDataset.xlsx')",
   "id": "5c128562d1ea402e",
   "outputs": [],
   "execution_count": 7
  },
  {
   "metadata": {
    "ExecuteTime": {
     "end_time": "2025-03-19T11:00:53.588576Z",
     "start_time": "2025-03-19T11:00:53.519032Z"
    }
   },
   "cell_type": "code",
   "source": "df.head()",
   "id": "32e7d0ed34691335",
   "outputs": [
    {
     "data": {
      "text/plain": [
       "        date                 desiption   debit    credit   balance\n",
       "0 2022-09-29                   CSH DEP     NaN   1000.00      1000\n",
       "1 2022-10-31                       TRF     NaN  17480.00     18480\n",
       "2 2022-10-31                       INT     NaN      4.64  18484.64\n",
       "3 2022-11-06          t ahirt OTHBNK T  6030.0       NaN  12454.64\n",
       "4 2022-11-06  010001088282101 OTHBNK T  3030.0       NaN   9424.64"
      ],
      "text/html": [
       "<div>\n",
       "<style scoped>\n",
       "    .dataframe tbody tr th:only-of-type {\n",
       "        vertical-align: middle;\n",
       "    }\n",
       "\n",
       "    .dataframe tbody tr th {\n",
       "        vertical-align: top;\n",
       "    }\n",
       "\n",
       "    .dataframe thead th {\n",
       "        text-align: right;\n",
       "    }\n",
       "</style>\n",
       "<table border=\"1\" class=\"dataframe\">\n",
       "  <thead>\n",
       "    <tr style=\"text-align: right;\">\n",
       "      <th></th>\n",
       "      <th>date</th>\n",
       "      <th>desiption</th>\n",
       "      <th>debit</th>\n",
       "      <th>credit</th>\n",
       "      <th>balance</th>\n",
       "    </tr>\n",
       "  </thead>\n",
       "  <tbody>\n",
       "    <tr>\n",
       "      <th>0</th>\n",
       "      <td>2022-09-29</td>\n",
       "      <td>CSH DEP</td>\n",
       "      <td>NaN</td>\n",
       "      <td>1000.00</td>\n",
       "      <td>1000</td>\n",
       "    </tr>\n",
       "    <tr>\n",
       "      <th>1</th>\n",
       "      <td>2022-10-31</td>\n",
       "      <td>TRF</td>\n",
       "      <td>NaN</td>\n",
       "      <td>17480.00</td>\n",
       "      <td>18480</td>\n",
       "    </tr>\n",
       "    <tr>\n",
       "      <th>2</th>\n",
       "      <td>2022-10-31</td>\n",
       "      <td>INT</td>\n",
       "      <td>NaN</td>\n",
       "      <td>4.64</td>\n",
       "      <td>18484.64</td>\n",
       "    </tr>\n",
       "    <tr>\n",
       "      <th>3</th>\n",
       "      <td>2022-11-06</td>\n",
       "      <td>t ahirt OTHBNK T</td>\n",
       "      <td>6030.0</td>\n",
       "      <td>NaN</td>\n",
       "      <td>12454.64</td>\n",
       "    </tr>\n",
       "    <tr>\n",
       "      <th>4</th>\n",
       "      <td>2022-11-06</td>\n",
       "      <td>010001088282101 OTHBNK T</td>\n",
       "      <td>3030.0</td>\n",
       "      <td>NaN</td>\n",
       "      <td>9424.64</td>\n",
       "    </tr>\n",
       "  </tbody>\n",
       "</table>\n",
       "</div>"
      ]
     },
     "execution_count": 8,
     "metadata": {},
     "output_type": "execute_result"
    }
   ],
   "execution_count": 8
  },
  {
   "metadata": {
    "ExecuteTime": {
     "end_time": "2025-03-19T11:00:55.384604Z",
     "start_time": "2025-03-19T11:00:55.286188Z"
    }
   },
   "cell_type": "code",
   "source": [
    "# Step 3: Data Preprocessing - Normalize Text & Expand Abbreviations\n",
    "\n",
    "# Define abbreviation dictionary\n",
    "abbreviations = {\n",
    "    'PYT': 'Payment',\n",
    "    'TRF': 'Transfer',\n",
    "    'DEP': 'Deposit',\n",
    "    'WDL': 'Withdrawal',\n",
    "    'WD': 'Withdrawal',\n",
    "    'POS': 'Point of Sale',\n",
    "    'ATM': 'ATM Withdrawal',\n",
    "    'CHQ': 'Cheque',\n",
    "    'DD': 'Demand Draft',\n",
    "    'BT': 'Bank Transfer',\n",
    "    'ACH': 'Automated Clearing House',\n",
    "    'NEFT': 'National Electronic Funds Transfer',\n",
    "    'RTGS': 'Real-Time Gross Settlement',\n",
    "    'IMPS': 'Immediate Payment Service',\n",
    "    'UPI': 'Unified Payments Interface',\n",
    "    'INT': 'Interest',\n",
    "    'CHG': 'Charge',\n",
    "    'FEE': 'Fee',\n",
    "    'TXN': 'Transaction',\n",
    "    'REV': 'Reversal',\n",
    "    'EMI': 'Equated Monthly Installment',\n",
    "    'CC': 'Credit Card',\n",
    "    'POS REF': 'Point of Sale Refund',\n",
    "    'BIL': 'Bill Payment',\n",
    "    'BILP': 'Bill Payment',\n",
    "    'INV': 'Investment',\n",
    "    'REF': 'Refund',\n",
    "    'SAL': 'Salary Credit',\n",
    "    'SL': 'Salary Credit',\n",
    "    'TFR': 'Transfer'\n",
    "}\n",
    "\n",
    "# Function to clean text\n",
    "def clean_text(text, abbr_dict):\n",
    "    text = str(text).lower()  # Convert to lowercase\n",
    "    for abbr, full_form in abbr_dict.items():\n",
    "        text = re.sub(rf'\\b{abbr.lower()}\\b', full_form.lower(), text)\n",
    "    return text\n",
    "\n",
    "# Apply text cleaning to the 'Particulars' column\n",
    "df['cleaned_particulars'] = df['desiption'].apply(lambda x: clean_text(x, abbreviations))\n"
   ],
   "id": "1249a37c6e258e76",
   "outputs": [],
   "execution_count": 9
  },
  {
   "metadata": {
    "ExecuteTime": {
     "end_time": "2025-03-19T11:02:50.485217Z",
     "start_time": "2025-03-19T11:02:50.424343Z"
    }
   },
   "cell_type": "code",
   "source": [
    "# Step 4: Separate Payments and Receipts Transactions\n",
    "\n",
    "# Payments: Non-null 'Payments' column, null 'Receipts'\n",
    "df_debit = df[df['debit'].notna() & df['credit'].isna()].copy()\n",
    "\n",
    "# Receipts: Non-null 'Receipts' column, null 'Payments'\n",
    "df_credit = df[df['credit'].notna() & df['debit'].isna()].copy()\n"
   ],
   "id": "aeba4d56ca5e8fa0",
   "outputs": [],
   "execution_count": 11
  },
  {
   "metadata": {
    "ExecuteTime": {
     "end_time": "2025-03-19T11:04:49.611890Z",
     "start_time": "2025-03-19T11:04:49.447653Z"
    }
   },
   "cell_type": "code",
   "source": "df_credit.head()",
   "id": "b2f5bc1ae328a887",
   "outputs": [
    {
     "data": {
      "text/plain": [
       "        date desiption  debit    credit   balance cleaned_particulars\n",
       "0 2022-09-29   CSH DEP    NaN   1000.00      1000         csh deposit\n",
       "1 2022-10-31       TRF    NaN  17480.00     18480            transfer\n",
       "2 2022-10-31       INT    NaN      4.64  18484.64            interest\n",
       "6 2022-11-16       TRF    NaN   2587.50  11987.14            transfer\n",
       "8 2022-11-30       INT    NaN  20240.00  31777.14            interest"
      ],
      "text/html": [
       "<div>\n",
       "<style scoped>\n",
       "    .dataframe tbody tr th:only-of-type {\n",
       "        vertical-align: middle;\n",
       "    }\n",
       "\n",
       "    .dataframe tbody tr th {\n",
       "        vertical-align: top;\n",
       "    }\n",
       "\n",
       "    .dataframe thead th {\n",
       "        text-align: right;\n",
       "    }\n",
       "</style>\n",
       "<table border=\"1\" class=\"dataframe\">\n",
       "  <thead>\n",
       "    <tr style=\"text-align: right;\">\n",
       "      <th></th>\n",
       "      <th>date</th>\n",
       "      <th>desiption</th>\n",
       "      <th>debit</th>\n",
       "      <th>credit</th>\n",
       "      <th>balance</th>\n",
       "      <th>cleaned_particulars</th>\n",
       "    </tr>\n",
       "  </thead>\n",
       "  <tbody>\n",
       "    <tr>\n",
       "      <th>0</th>\n",
       "      <td>2022-09-29</td>\n",
       "      <td>CSH DEP</td>\n",
       "      <td>NaN</td>\n",
       "      <td>1000.00</td>\n",
       "      <td>1000</td>\n",
       "      <td>csh deposit</td>\n",
       "    </tr>\n",
       "    <tr>\n",
       "      <th>1</th>\n",
       "      <td>2022-10-31</td>\n",
       "      <td>TRF</td>\n",
       "      <td>NaN</td>\n",
       "      <td>17480.00</td>\n",
       "      <td>18480</td>\n",
       "      <td>transfer</td>\n",
       "    </tr>\n",
       "    <tr>\n",
       "      <th>2</th>\n",
       "      <td>2022-10-31</td>\n",
       "      <td>INT</td>\n",
       "      <td>NaN</td>\n",
       "      <td>4.64</td>\n",
       "      <td>18484.64</td>\n",
       "      <td>interest</td>\n",
       "    </tr>\n",
       "    <tr>\n",
       "      <th>6</th>\n",
       "      <td>2022-11-16</td>\n",
       "      <td>TRF</td>\n",
       "      <td>NaN</td>\n",
       "      <td>2587.50</td>\n",
       "      <td>11987.14</td>\n",
       "      <td>transfer</td>\n",
       "    </tr>\n",
       "    <tr>\n",
       "      <th>8</th>\n",
       "      <td>2022-11-30</td>\n",
       "      <td>INT</td>\n",
       "      <td>NaN</td>\n",
       "      <td>20240.00</td>\n",
       "      <td>31777.14</td>\n",
       "      <td>interest</td>\n",
       "    </tr>\n",
       "  </tbody>\n",
       "</table>\n",
       "</div>"
      ]
     },
     "execution_count": 12,
     "metadata": {},
     "output_type": "execute_result"
    }
   ],
   "execution_count": 12
  },
  {
   "metadata": {
    "ExecuteTime": {
     "end_time": "2025-03-19T11:05:09.372920Z",
     "start_time": "2025-03-19T11:05:09.346751Z"
    }
   },
   "cell_type": "code",
   "source": "df_debit.head()",
   "id": "ae3e60b50a50ac37",
   "outputs": [
    {
     "data": {
      "text/plain": [
       "         date                  desiption   debit  credit   balance  \\\n",
       "3  2022-11-06           t ahirt OTHBNK T  6030.0     NaN  12454.64   \n",
       "4  2022-11-06   010001088282101 OTHBNK T  3030.0     NaN   9424.64   \n",
       "5  2022-11-15  RIB/RMB SE.CH 20 IBMB Chg    25.0     NaN   9399.64   \n",
       "7  2022-11-18  nadil Siriwardha MB SA TF   450.0     NaN  11537.14   \n",
       "11 2022-12-24             nadil OTHBNK T  7530.0     NaN   27264.9   \n",
       "\n",
       "             cleaned_particulars  \n",
       "3               t ahirt othbnk t  \n",
       "4       010001088282101 othbnk t  \n",
       "5   rib/rmb se.ch 20 ibmb charge  \n",
       "7      nadil siriwardha mb sa tf  \n",
       "11                nadil othbnk t  "
      ],
      "text/html": [
       "<div>\n",
       "<style scoped>\n",
       "    .dataframe tbody tr th:only-of-type {\n",
       "        vertical-align: middle;\n",
       "    }\n",
       "\n",
       "    .dataframe tbody tr th {\n",
       "        vertical-align: top;\n",
       "    }\n",
       "\n",
       "    .dataframe thead th {\n",
       "        text-align: right;\n",
       "    }\n",
       "</style>\n",
       "<table border=\"1\" class=\"dataframe\">\n",
       "  <thead>\n",
       "    <tr style=\"text-align: right;\">\n",
       "      <th></th>\n",
       "      <th>date</th>\n",
       "      <th>desiption</th>\n",
       "      <th>debit</th>\n",
       "      <th>credit</th>\n",
       "      <th>balance</th>\n",
       "      <th>cleaned_particulars</th>\n",
       "    </tr>\n",
       "  </thead>\n",
       "  <tbody>\n",
       "    <tr>\n",
       "      <th>3</th>\n",
       "      <td>2022-11-06</td>\n",
       "      <td>t ahirt OTHBNK T</td>\n",
       "      <td>6030.0</td>\n",
       "      <td>NaN</td>\n",
       "      <td>12454.64</td>\n",
       "      <td>t ahirt othbnk t</td>\n",
       "    </tr>\n",
       "    <tr>\n",
       "      <th>4</th>\n",
       "      <td>2022-11-06</td>\n",
       "      <td>010001088282101 OTHBNK T</td>\n",
       "      <td>3030.0</td>\n",
       "      <td>NaN</td>\n",
       "      <td>9424.64</td>\n",
       "      <td>010001088282101 othbnk t</td>\n",
       "    </tr>\n",
       "    <tr>\n",
       "      <th>5</th>\n",
       "      <td>2022-11-15</td>\n",
       "      <td>RIB/RMB SE.CH 20 IBMB Chg</td>\n",
       "      <td>25.0</td>\n",
       "      <td>NaN</td>\n",
       "      <td>9399.64</td>\n",
       "      <td>rib/rmb se.ch 20 ibmb charge</td>\n",
       "    </tr>\n",
       "    <tr>\n",
       "      <th>7</th>\n",
       "      <td>2022-11-18</td>\n",
       "      <td>nadil Siriwardha MB SA TF</td>\n",
       "      <td>450.0</td>\n",
       "      <td>NaN</td>\n",
       "      <td>11537.14</td>\n",
       "      <td>nadil siriwardha mb sa tf</td>\n",
       "    </tr>\n",
       "    <tr>\n",
       "      <th>11</th>\n",
       "      <td>2022-12-24</td>\n",
       "      <td>nadil OTHBNK T</td>\n",
       "      <td>7530.0</td>\n",
       "      <td>NaN</td>\n",
       "      <td>27264.9</td>\n",
       "      <td>nadil othbnk t</td>\n",
       "    </tr>\n",
       "  </tbody>\n",
       "</table>\n",
       "</div>"
      ]
     },
     "execution_count": 13,
     "metadata": {},
     "output_type": "execute_result"
    }
   ],
   "execution_count": 13
  },
  {
   "metadata": {
    "ExecuteTime": {
     "end_time": "2025-03-19T11:27:15.816714Z",
     "start_time": "2025-03-19T11:25:52.056155Z"
    }
   },
   "cell_type": "code",
   "source": [
    "# Step 5: Generate Sentence Embeddings\n",
    "\n",
    "# Initialize Sentence Transformer model\n",
    "model = SentenceTransformer('gtr-t5-large')\n",
    "\n",
    "# Generate embeddings for Payments\n",
    "credit_embeddings = model.encode(df_credit['cleaned_particulars'].tolist())\n",
    "\n",
    "# Generate embeddings for Receipts\n",
    "debit_embeddings = model.encode(df_debit['cleaned_particulars'].tolist())\n"
   ],
   "id": "3fd7470fe3ea9403",
   "outputs": [],
   "execution_count": 15
  },
  {
   "metadata": {
    "ExecuteTime": {
     "end_time": "2025-03-19T11:45:10.531995Z",
     "start_time": "2025-03-19T11:45:09.733365Z"
    }
   },
   "cell_type": "code",
   "source": [
    "# Step 6: Apply HDBSCAN Clustering for credit\n",
    "\n",
    "# Standardize embeddings\n",
    "scaler_credit = StandardScaler()\n",
    "credit_embeddings_scaled = scaler_credit.fit_transform(credit_embeddings)\n",
    "\n",
    "# Apply HDBSCAN\n",
    "hdbscan_credit = hdbscan.HDBSCAN(min_cluster_size=2, gen_min_span_tree=True)\n",
    "df_credit['Cluster'] = hdbscan_credit.fit_predict(credit_embeddings_scaled)\n"
   ],
   "id": "a7932ce38b461f1b",
   "outputs": [],
   "execution_count": 17
  },
  {
   "metadata": {
    "ExecuteTime": {
     "end_time": "2025-03-19T11:45:57.338212Z",
     "start_time": "2025-03-19T11:45:56.859589Z"
    }
   },
   "cell_type": "code",
   "source": [
    "# Step 7: Apply HDBSCAN Clustering for debit\n",
    "\n",
    "# Standardize embeddings\n",
    "scaler_debit = StandardScaler()\n",
    "debit_embeddings_scaled = scaler_debit.fit_transform(debit_embeddings)\n",
    "\n",
    "# Apply HDBSCAN\n",
    "hdbscan_debit = hdbscan.HDBSCAN(min_cluster_size=5, gen_min_span_tree=True)\n",
    "df_debit['Cluster'] = hdbscan_debit.fit_predict(debit_embeddings_scaled)\n"
   ],
   "id": "b2d1756c91560cff",
   "outputs": [],
   "execution_count": 18
  },
  {
   "metadata": {},
   "cell_type": "code",
   "outputs": [],
   "execution_count": null,
   "source": "",
   "id": "72d011165735fae8"
  }
 ],
 "metadata": {
  "kernelspec": {
   "display_name": "Python 3",
   "language": "python",
   "name": "python3"
  },
  "language_info": {
   "codemirror_mode": {
    "name": "ipython",
    "version": 2
   },
   "file_extension": ".py",
   "mimetype": "text/x-python",
   "name": "python",
   "nbconvert_exporter": "python",
   "pygments_lexer": "ipython2",
   "version": "2.7.6"
  }
 },
 "nbformat": 4,
 "nbformat_minor": 5
}
