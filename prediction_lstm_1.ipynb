{
 "cells": [
  {
   "metadata": {
    "ExecuteTime": {
     "end_time": "2025-03-19T10:49:53.736495Z",
     "start_time": "2025-03-19T10:49:16.957902Z"
    }
   },
   "cell_type": "code",
   "source": [
    "# Step 1: Import necessary libraries\n",
    "import pandas as pd\n",
    "import re\n",
    "from sentence_transformers import SentenceTransformer\n",
    "import hdbscan\n",
    "import numpy as np\n",
    "import time\n",
    "from sklearn.preprocessing import StandardScaler\n"
   ],
   "id": "9e948308394c4d27",
   "outputs": [],
   "execution_count": 1
  },
  {
   "metadata": {
    "ExecuteTime": {
     "end_time": "2025-03-19T10:51:26.531611Z",
     "start_time": "2025-03-19T10:51:19.784194Z"
    }
   },
   "cell_type": "code",
   "source": "df=pd.read_excel('nadilFInalizedDataset.xlsx')",
   "id": "5c128562d1ea402e",
   "outputs": [],
   "execution_count": 2
  },
  {
   "metadata": {
    "ExecuteTime": {
     "end_time": "2025-03-19T10:51:31.238813Z",
     "start_time": "2025-03-19T10:51:31.019942Z"
    }
   },
   "cell_type": "code",
   "source": "df.head()",
   "id": "32e7d0ed34691335",
   "outputs": [
    {
     "data": {
      "text/plain": [
       "        date                 desiption   debit    credit   balance\n",
       "0 2022-09-29                   CSH DEP     NaN   1000.00      1000\n",
       "1 2022-10-31                       TRF     NaN  17480.00     18480\n",
       "2 2022-10-31                       INT     NaN      4.64  18484.64\n",
       "3 2022-11-06          t ahirt OTHBNK T  6030.0       NaN  12454.64\n",
       "4 2022-11-06  010001088282101 OTHBNK T  3030.0       NaN   9424.64"
      ],
      "text/html": [
       "<div>\n",
       "<style scoped>\n",
       "    .dataframe tbody tr th:only-of-type {\n",
       "        vertical-align: middle;\n",
       "    }\n",
       "\n",
       "    .dataframe tbody tr th {\n",
       "        vertical-align: top;\n",
       "    }\n",
       "\n",
       "    .dataframe thead th {\n",
       "        text-align: right;\n",
       "    }\n",
       "</style>\n",
       "<table border=\"1\" class=\"dataframe\">\n",
       "  <thead>\n",
       "    <tr style=\"text-align: right;\">\n",
       "      <th></th>\n",
       "      <th>date</th>\n",
       "      <th>desiption</th>\n",
       "      <th>debit</th>\n",
       "      <th>credit</th>\n",
       "      <th>balance</th>\n",
       "    </tr>\n",
       "  </thead>\n",
       "  <tbody>\n",
       "    <tr>\n",
       "      <th>0</th>\n",
       "      <td>2022-09-29</td>\n",
       "      <td>CSH DEP</td>\n",
       "      <td>NaN</td>\n",
       "      <td>1000.00</td>\n",
       "      <td>1000</td>\n",
       "    </tr>\n",
       "    <tr>\n",
       "      <th>1</th>\n",
       "      <td>2022-10-31</td>\n",
       "      <td>TRF</td>\n",
       "      <td>NaN</td>\n",
       "      <td>17480.00</td>\n",
       "      <td>18480</td>\n",
       "    </tr>\n",
       "    <tr>\n",
       "      <th>2</th>\n",
       "      <td>2022-10-31</td>\n",
       "      <td>INT</td>\n",
       "      <td>NaN</td>\n",
       "      <td>4.64</td>\n",
       "      <td>18484.64</td>\n",
       "    </tr>\n",
       "    <tr>\n",
       "      <th>3</th>\n",
       "      <td>2022-11-06</td>\n",
       "      <td>t ahirt OTHBNK T</td>\n",
       "      <td>6030.0</td>\n",
       "      <td>NaN</td>\n",
       "      <td>12454.64</td>\n",
       "    </tr>\n",
       "    <tr>\n",
       "      <th>4</th>\n",
       "      <td>2022-11-06</td>\n",
       "      <td>010001088282101 OTHBNK T</td>\n",
       "      <td>3030.0</td>\n",
       "      <td>NaN</td>\n",
       "      <td>9424.64</td>\n",
       "    </tr>\n",
       "  </tbody>\n",
       "</table>\n",
       "</div>"
      ]
     },
     "execution_count": 3,
     "metadata": {},
     "output_type": "execute_result"
    }
   ],
   "execution_count": 3
  },
  {
   "metadata": {},
   "cell_type": "code",
   "outputs": [],
   "execution_count": null,
   "source": "",
   "id": "1249a37c6e258e76"
  }
 ],
 "metadata": {
  "kernelspec": {
   "display_name": "Python 3",
   "language": "python",
   "name": "python3"
  },
  "language_info": {
   "codemirror_mode": {
    "name": "ipython",
    "version": 2
   },
   "file_extension": ".py",
   "mimetype": "text/x-python",
   "name": "python",
   "nbconvert_exporter": "python",
   "pygments_lexer": "ipython2",
   "version": "2.7.6"
  }
 },
 "nbformat": 4,
 "nbformat_minor": 5
}
