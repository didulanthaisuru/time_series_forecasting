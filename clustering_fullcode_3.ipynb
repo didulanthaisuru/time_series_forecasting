{
 "cells": [
  {
   "cell_type": "code",
   "id": "initial_id",
   "metadata": {
    "collapsed": true,
    "ExecuteTime": {
     "end_time": "2025-03-17T16:03:15.469788Z",
     "start_time": "2025-03-17T16:03:01.472744Z"
    }
   },
   "source": [
    "# Step 1: Import necessary libraries\n",
    "import pandas as pd\n",
    "import re\n",
    "from sentence_transformers import SentenceTransformer\n",
    "import hdbscan\n",
    "import numpy as np\n",
    "import time\n",
    "from sklearn.preprocessing import StandardScaler\n"
   ],
   "outputs": [],
   "execution_count": 1
  },
  {
   "metadata": {
    "ExecuteTime": {
     "end_time": "2025-03-17T16:03:16.172437Z",
     "start_time": "2025-03-17T16:03:15.471798Z"
    }
   },
   "cell_type": "code",
   "source": [
    "# Step 2: Load your Excel dataset (make sure the file is in the same directory)\n",
    "df = pd.read_excel('nadil_dataset_final.xlsx')  # Change the path if needed\n"
   ],
   "id": "9d345c8a2a235ffc",
   "outputs": [],
   "execution_count": 2
  },
  {
   "metadata": {
    "ExecuteTime": {
     "end_time": "2025-03-17T16:03:21.813134Z",
     "start_time": "2025-03-17T16:03:21.739432Z"
    }
   },
   "cell_type": "code",
   "source": [
    "# Step 3: Data Refinement - Text Preprocessing\n",
    "\n",
    "# Create a dictionary of abbreviations\n",
    "abbreviations = {\n",
    "    'PYT': 'Payment',\n",
    "    'TRF': 'Transfer',\n",
    "    'DEP': 'Deposit',\n",
    "    'WDL': 'Withdrawal',\n",
    "    'WD': 'Withdrawal',\n",
    "    'POS': 'Point of Sale',\n",
    "    'ATM': 'ATM Withdrawal',\n",
    "    'CHQ': 'Cheque',\n",
    "    'DD': 'Demand Draft',\n",
    "    'BT': 'Bank Transfer',\n",
    "    'ACH': 'Automated Clearing House',\n",
    "    'NEFT': 'National Electronic Funds Transfer',\n",
    "    'RTGS': 'Real-Time Gross Settlement',\n",
    "    'IMPS': 'Immediate Payment Service',\n",
    "    'UPI': 'Unified Payments Interface',\n",
    "    'INT': 'Interest',\n",
    "    'CHG': 'Charge',\n",
    "    'FEE': 'Fee',\n",
    "    'TXN': 'Transaction',\n",
    "    'REV': 'Reversal',\n",
    "    'EMI': 'Equated Monthly Installment',\n",
    "    'CC': 'Credit Card',\n",
    "    'POS REF': 'Point of Sale Refund',\n",
    "    'BIL': 'Bill Payment',\n",
    "    'BILP': 'Bill Payment',\n",
    "    'INV': 'Investment',\n",
    "    'REF': 'Refund',\n",
    "    'SAL': 'Salary Credit',\n",
    "    'SL': 'Salary Credit',\n",
    "    'TFR': 'Transfer'\n",
    "}\n",
    "\n",
    "# Step 3.1: Normalize Capitalization and Expand Abbreviations\n",
    "def clean_text(text, abbr_dict):\n",
    "    # Convert text to lowercase\n",
    "    text = text.lower()\n",
    "    \n",
    "    # Expand abbreviations\n",
    "    for abbr, full_form in abbr_dict.items():\n",
    "        text = re.sub(rf'\\b{abbr.lower()}\\b', full_form.lower(), text)\n",
    "    \n",
    "    return text\n",
    "\n",
    "# Apply text cleaning to 'Particulars' column\n",
    "df['cleaned_particulars'] = df['Discription'].apply(lambda x: clean_text(str(x), abbreviations))\n"
   ],
   "id": "f6600d34b43954ac",
   "outputs": [],
   "execution_count": 3
  },
  {
   "metadata": {
    "ExecuteTime": {
     "end_time": "2025-03-17T16:12:04.009065Z",
     "start_time": "2025-03-17T16:03:45.926497Z"
    }
   },
   "cell_type": "code",
   "source": [
    "# Step 4: Use Sentence Transformers to Create Embeddings\n",
    "\n",
    "# Initialize the sentence transformer model (you can choose any model you prefer)\n",
    "model = SentenceTransformer('gtr-t5-large')\n",
    "\n",
    "# Generate embeddings for the cleaned text\n",
    "embeddings = model.encode(df['cleaned_particulars'].tolist())\n"
   ],
   "id": "9d7b13f08650ccc6",
   "outputs": [
    {
     "data": {
      "text/plain": [
       "modules.json:   0%|          | 0.00/461 [00:00<?, ?B/s]"
      ],
      "application/vnd.jupyter.widget-view+json": {
       "version_major": 2,
       "version_minor": 0,
       "model_id": "60aa7bde79a9474d8e7d85ba07287bd8"
      }
     },
     "metadata": {},
     "output_type": "display_data"
    },
    {
     "data": {
      "text/plain": [
       "config_sentence_transformers.json:   0%|          | 0.00/122 [00:00<?, ?B/s]"
      ],
      "application/vnd.jupyter.widget-view+json": {
       "version_major": 2,
       "version_minor": 0,
       "model_id": "f7772a39a6054c53b3cd3bc2fac77d17"
      }
     },
     "metadata": {},
     "output_type": "display_data"
    },
    {
     "data": {
      "text/plain": [
       "README.md:   0%|          | 0.00/1.67k [00:00<?, ?B/s]"
      ],
      "application/vnd.jupyter.widget-view+json": {
       "version_major": 2,
       "version_minor": 0,
       "model_id": "f97a4096e23f4b658b5e22e9d23f8305"
      }
     },
     "metadata": {},
     "output_type": "display_data"
    },
    {
     "data": {
      "text/plain": [
       "sentence_bert_config.json:   0%|          | 0.00/53.0 [00:00<?, ?B/s]"
      ],
      "application/vnd.jupyter.widget-view+json": {
       "version_major": 2,
       "version_minor": 0,
       "model_id": "96f9a8b6d00d4833a16a14ae2586fadf"
      }
     },
     "metadata": {},
     "output_type": "display_data"
    },
    {
     "data": {
      "text/plain": [
       "config.json:   0%|          | 0.00/1.38k [00:00<?, ?B/s]"
      ],
      "application/vnd.jupyter.widget-view+json": {
       "version_major": 2,
       "version_minor": 0,
       "model_id": "a5e58af59e1f446d8db0881c0ff8e295"
      }
     },
     "metadata": {},
     "output_type": "display_data"
    },
    {
     "data": {
      "text/plain": [
       "model.safetensors:   0%|          | 0.00/670M [00:00<?, ?B/s]"
      ],
      "application/vnd.jupyter.widget-view+json": {
       "version_major": 2,
       "version_minor": 0,
       "model_id": "5544b7b6358d4ff581fad852fb005724"
      }
     },
     "metadata": {},
     "output_type": "display_data"
    },
    {
     "data": {
      "text/plain": [
       "tokenizer_config.json:   0%|          | 0.00/1.92k [00:00<?, ?B/s]"
      ],
      "application/vnd.jupyter.widget-view+json": {
       "version_major": 2,
       "version_minor": 0,
       "model_id": "e42505ba77fc47b69ab42dad185c8569"
      }
     },
     "metadata": {},
     "output_type": "display_data"
    },
    {
     "data": {
      "text/plain": [
       "spiece.model:   0%|          | 0.00/792k [00:00<?, ?B/s]"
      ],
      "application/vnd.jupyter.widget-view+json": {
       "version_major": 2,
       "version_minor": 0,
       "model_id": "9d0acbdc0e514fd0b62472d3bc9da2ff"
      }
     },
     "metadata": {},
     "output_type": "display_data"
    },
    {
     "data": {
      "text/plain": [
       "tokenizer.json:   0%|          | 0.00/1.39M [00:00<?, ?B/s]"
      ],
      "application/vnd.jupyter.widget-view+json": {
       "version_major": 2,
       "version_minor": 0,
       "model_id": "73c9b62af3e3475698957ee5e0951c9d"
      }
     },
     "metadata": {},
     "output_type": "display_data"
    },
    {
     "data": {
      "text/plain": [
       "special_tokens_map.json:   0%|          | 0.00/1.79k [00:00<?, ?B/s]"
      ],
      "application/vnd.jupyter.widget-view+json": {
       "version_major": 2,
       "version_minor": 0,
       "model_id": "a352445e4ac04479bfc4fe227a76cbca"
      }
     },
     "metadata": {},
     "output_type": "display_data"
    },
    {
     "data": {
      "text/plain": [
       "config.json:   0%|          | 0.00/190 [00:00<?, ?B/s]"
      ],
      "application/vnd.jupyter.widget-view+json": {
       "version_major": 2,
       "version_minor": 0,
       "model_id": "477ea8ccce7740d09128d5bf14d6947a"
      }
     },
     "metadata": {},
     "output_type": "display_data"
    },
    {
     "data": {
      "text/plain": [
       "config.json:   0%|          | 0.00/116 [00:00<?, ?B/s]"
      ],
      "application/vnd.jupyter.widget-view+json": {
       "version_major": 2,
       "version_minor": 0,
       "model_id": "81c859713535447d9f14eed5e4c80b8e"
      }
     },
     "metadata": {},
     "output_type": "display_data"
    },
    {
     "data": {
      "text/plain": [
       "model.safetensors:   0%|          | 0.00/3.15M [00:00<?, ?B/s]"
      ],
      "application/vnd.jupyter.widget-view+json": {
       "version_major": 2,
       "version_minor": 0,
       "model_id": "57c228fcc9c942308e8a6d13bc762d06"
      }
     },
     "metadata": {},
     "output_type": "display_data"
    },
    {
     "data": {
      "text/plain": [
       "pytorch_model.bin:   0%|          | 0.00/3.15M [00:00<?, ?B/s]"
      ],
      "application/vnd.jupyter.widget-view+json": {
       "version_major": 2,
       "version_minor": 0,
       "model_id": "0f0d670dc8dd4a0cbc9721818f595229"
      }
     },
     "metadata": {},
     "output_type": "display_data"
    }
   ],
   "execution_count": 4
  },
  {
   "metadata": {
    "ExecuteTime": {
     "end_time": "2025-03-17T16:13:04.593343Z",
     "start_time": "2025-03-17T16:13:04.140325Z"
    }
   },
   "cell_type": "code",
   "source": [
    "# Step 5: Clustering using HDBSCAN\n",
    "\n",
    "# Step 5.1: Normalize the embeddings (this is optional but can improve HDBSCAN performance)\n",
    "scaler = StandardScaler()\n",
    "embeddings_scaled = scaler.fit_transform(embeddings)\n",
    "\n",
    "# Step 5.2: Apply HDBSCAN Clustering\n",
    "hdbscan_model = hdbscan.HDBSCAN(min_cluster_size=5, gen_min_span_tree=True)  # Adjust min_cluster_size as needed\n",
    "labels = hdbscan_model.fit_predict(embeddings_scaled)\n"
   ],
   "id": "f316b9007049ca5c",
   "outputs": [],
   "execution_count": 5
  },
  {
   "metadata": {
    "ExecuteTime": {
     "end_time": "2025-03-17T16:13:06.718104Z",
     "start_time": "2025-03-17T16:13:06.702375Z"
    }
   },
   "cell_type": "code",
   "source": [
    "# Step 6: Add the cluster labels to the dataframe\n",
    "df['Cluster'] = labels\n"
   ],
   "id": "14dbbe136627fc95",
   "outputs": [],
   "execution_count": 6
  },
  {
   "metadata": {
    "ExecuteTime": {
     "end_time": "2025-03-17T16:13:07.991061Z",
     "start_time": "2025-03-17T16:13:07.835346Z"
    }
   },
   "cell_type": "code",
   "source": [
    "# Step 7: Print all clusters with their data\n",
    "\n",
    "# Loop through all unique clusters (ignoring noise points labeled as -1)\n",
    "unique_clusters = set(labels)\n",
    "\n",
    "for cluster in unique_clusters:\n",
    "    print(f\"\\nCluster {cluster} Transactions:\")\n",
    "    \n",
    "    # Filter rows for the current cluster\n",
    "    cluster_data = df[df['Cluster'] == cluster]\n",
    "    \n",
    "    # Print the details of each transaction in the cluster\n",
    "    print(cluster_data[['Discription', 'Payments', 'Receipts', 'Balance']])\n"
   ],
   "id": "76ca102268b2ff04",
   "outputs": [
    {
     "name": "stdout",
     "output_type": "stream",
     "text": [
      "\n",
      "Cluster 0 Transactions:\n",
      "    Discription  Payments  Receipts  Balance\n",
      "0           NaN       NaN       NaN      NaN\n",
      "64          NaN       NaN       NaN      NaN\n",
      "274         NaN       NaN       NaN      NaN\n",
      "306         NaN       NaN       NaN      NaN\n",
      "337         NaN       NaN       NaN      NaN\n",
      "368         NaN       NaN       NaN      NaN\n",
      "399         NaN       NaN       NaN      NaN\n",
      "430         NaN       NaN       NaN      NaN\n",
      "\n",
      "Cluster 1 Transactions:\n",
      "                  Discription  Payments  Receipts   Balance\n",
      "42                       INT        NaN     12.16   2017.70\n",
      "67                        INT       NaN      4.64  18484.64\n",
      "73                        INT       NaN  20240.00  31777.14\n",
      "86                        INT       NaN    114.05  68565.20\n",
      "93                        INT       NaN    185.71  73200.91\n",
      "104                       INT       NaN    186.69  75148.32\n",
      "119                       INT       NaN    176.17  57752.66\n",
      "123                       INT       NaN    151.07  51824.93\n",
      "136                       INT       NaN    164.03  57531.41\n",
      "149                       INT       NaN    165.45  57208.66\n",
      "171                       INT       NaN    118.77  50929.16\n",
      "219                       INT       NaN     68.14  12331.37\n",
      "251                       INT       NaN     25.22   6265.69\n",
      "278                       INT       NaN     11.54   2616.11\n",
      "311                       INT       NaN      8.27   4084.81\n",
      "348                       INT       NaN     10.50   3332.90\n",
      "379                       INT       NaN      5.18    995.56\n",
      "409                       INT       NaN      8.65   1008.65\n",
      "441                       INT       NaN     11.26   1048.48\n",
      "\n",
      "Cluster 2 Transactions:\n",
      "                 Discription  Payments  Receipts   Balance\n",
      "66                       TRF       NaN  17480.00  18480.00\n",
      "71                       TRF       NaN   2587.50  11987.14\n",
      "74                       TRF       NaN     36.51  31813.65\n",
      "75                       TRF       NaN   2981.25  34794.90\n",
      "81                       TRF       NaN   1500.00  49734.90\n",
      "82                       TRF       NaN   2156.25  51891.15\n",
      "85                       TRF       NaN  16560.00  68451.15\n",
      "90                       TRF       NaN  15640.00  73015.20\n",
      "101                      TRF       NaN  15640.00  75641.63\n",
      "102                      TRF       NaN   2325.00  77966.63\n",
      "118                      TRF       NaN   1762.50  57576.49\n",
      "258                      TRF       NaN  22472.92  42342.35\n",
      "\n",
      "Cluster 3 Transactions:\n",
      "                   Discription  Payments  Receipts  Balance\n",
      "40   SmsServiceCharge IBMB Chg      50.0       NaN  4085.54\n",
      "297  SmsServiceCharge IBMB Chg      50.0       NaN  4040.54\n",
      "343  SmsServiceCharge IBMB Chg      50.0       NaN  1044.40\n",
      "373  SmsServiceCharge IBMB Chg      50.0       NaN  1190.38\n",
      "402  SmsServiceCharge IBMB chg      50.0     500.0  2460.00\n",
      "437  Smsservicecharge IBMB Chg      50.0       NaN  5837.22\n",
      "\n",
      "Cluster 4 Transactions:\n",
      "                    Discription  Payments  Receipts   Balance\n",
      "39    RIB/RMB SE.CH 20 IBMB Chg      40.0       NaN   4125.54\n",
      "70    RIB/RMB SE.CH 20 IBMB Chg      25.0       NaN   9399.64\n",
      "117  RIB/RMB SE. CH 20 IBMB Chg      40.0       NaN  55813.99\n",
      "122  RIB/RMB SE. CH 20 IBMB Chg      40.0       NaN  51673.86\n",
      "135  RIB/RMB SE. CH 20 IBMB Chg      40.0       NaN  57367.38\n",
      "148  RIB/RMB SE. CH 20 IBMB Chg      40.0       NaN  57043.21\n",
      "169   RIB/RMB SE.CH 20 IBMB Chg      40.0       NaN  51010.39\n",
      "217  RIB/RMB SE. CH 20 IBMB chg      40.0       NaN  15293.23\n",
      "248   RIB/RMB SE.CH 20 IBMB chg      40.0       NaN   6270.47\n",
      "277   RIB/RMB SE.CH 20 IBMB Chg      40.0       NaN   2604.57\n",
      "316   RIB/RMB SE.CH 20 IBMB Chg      40.0       NaN   5984.40\n",
      "344   RIB/RMB SE.CH 20 IBMB Chg      40.0       NaN   1004.40\n",
      "378   RIB/RMB SE.CH 20 IBMB Chg      40.0       NaN    990.38\n",
      "406   RIB/RMB SE.CH 20 IBMB chg      40.0       NaN    960.00\n",
      "439   RIB/RMB SE.CH 20 IBMB Chg      40.0       NaN   3767.22\n",
      "\n",
      "Cluster 5 Transactions:\n",
      "                    Discription  Payments  Receipts   Balance\n",
      "43                      WH TAX       0.60       NaN   2017.10\n",
      "94                       WH TAX      9.28       NaN  73191.63\n",
      "105                      WH TAX      9.33       NaN  75138.99\n",
      "120                      WH TAX      8.80       NaN  57743.86\n",
      "124                      WH TAX      7.55       NaN  51817.38\n",
      "137                      WH TAX      8.20       NaN  57523.21\n",
      "150                      WH TAX      8.27       NaN  57200.39\n",
      "172                      WH TAX      5.93       NaN  50923.23\n",
      "220                      WH TAX      3.40       NaN  12327.97\n",
      "252                      WH TAX      1.26       NaN   6264.43\n",
      "279                      WH TAX      0.57       NaN   2615.54\n",
      "312     0004199071001696 WH TAX      0.41       NaN   4084.40\n",
      "349                      WH TAX      0.52       NaN   3332.38\n",
      "380                      WH TAX      0.25       NaN    995.31\n",
      "410                      WH TAX      0.43       NaN   1008.22\n",
      "442                      WH TAX      0.56       NaN   1047.92\n",
      "\n",
      "Cluster 6 Transactions:\n",
      "                   Discription  Payments  Receipts   Balance\n",
      "17   FT FRM SEY -HELA EFT OTHE       NaN    1050.0   3905.54\n",
      "115  FT FRM SEY -HELA EFT OTHE       NaN    6000.0  60883.99\n",
      "232  FT FRM SEY -HELA EFT OTHE       NaN    1000.0  12870.47\n",
      "233  FT FRM SEY -HELA EFT OTHE       NaN    1730.0  14600.47\n",
      "238  FT FRM SEY -HELA EFT OTHE       NaN     400.0  10010.47\n",
      "264  FT FRM SEY -HELA EFT OTHE       NaN    7630.0  32250.35\n",
      "265  FT FRM SEY -HELA EFT OTHE       NaN    1550.0  33800.35\n",
      "\n",
      "Cluster 7 Transactions:\n",
      "                   Discription  Payments  Receipts   Balance\n",
      "68            t ahirt OTHBNK T    6030.0       NaN  12454.64\n",
      "69    010001088282101 OTHBNK T    3030.0       NaN   9424.64\n",
      "76              nadil OTHBNK T    7530.0       NaN  27264.90\n",
      "78              nadil OTHBNK T    4030.0       NaN  48234.90\n",
      "89             tshirt OTHBNK T    5030.0       NaN  57375.20\n",
      "97    010001088282101 OTHBNK T    4030.0       NaN  68661.63\n",
      "98    010001088282101 OTHBNK T    5030.0       NaN  63631.63\n",
      "99    010001088282101 OTHBNK T    3030.0       NaN  60601.63\n",
      "106  nadilsiriwardhan OTHBNK T    6030.0       NaN  69108.99\n",
      "107       nadilroshan OTHBNK T    6030.0       NaN  63078.99\n",
      "108      nadilsusindu OTHBNK T    6030.0       NaN  57048.99\n",
      "113   nadil , roshana OTHBNK T   12030.0       NaN  44883.99\n",
      "121  nadilboardingFee OTHBNK T    6030.0       NaN  51713.86\n",
      "127             nadil OTHBNK T    6030.0       NaN  50757.38\n",
      "\n",
      "Cluster 8 Transactions:\n",
      "        Discription  Payments  Receipts   Balance\n",
      "158  bodim EFT OTHE       NaN    5500.0  40350.39\n",
      "207  Money EFT OTHE       NaN    3000.0  20783.23\n",
      "214   Fuck EFT OTHE       NaN    4600.0  19393.23\n",
      "272    Ha1 EFT OTHE       NaN     500.0  20120.35\n",
      "286   none EFT OTHE       NaN    1000.0   3987.54\n",
      "\n",
      "Cluster 9 Transactions:\n",
      "                  Discription  Payments  Receipts   Balance\n",
      "45   DHAMMIKA LAPTOP EFT OTHE       NaN   10000.0  11767.10\n",
      "77   DHAMMIKA LAPTOP EFT OTHE       NaN   25000.0  52264.90\n",
      "129    FROM DHAMMIKA EFT OTHE       NaN   10000.0  59227.38\n",
      "142         DHAMMIKA EFT OTHE       NaN    5000.0  62933.21\n",
      "156    From Dhammika EFT OTHE       NaN    5000.0  42880.39\n",
      "206         Dhammika EFT OTHE       NaN    5000.0  17783.23\n",
      "255  DHAMMIKA LAPTOP EFT OTHE       NaN   10000.0  22004.43\n",
      "281  DHAMMIKA LAPTOP EFT OTHE       NaN   15000.0  17415.54\n",
      "321         Dhammika EFT OTHE       NaN   10000.0  11006.40\n",
      "\n",
      "Cluster 10 Transactions:\n",
      "          Discription  Payments  Receipts  Balance\n",
      "4    0443073 Fund Trf    6030.0       NaN  5009.54\n",
      "5    0762286 Fund Trf     976.0       NaN  4033.54\n",
      "14    038360 Fund Trf    3030.0       NaN  3435.54\n",
      "23   0493587 Fund Trf   10030.0       NaN  5885.54\n",
      "34   0367381 Fund Trf     530.0       NaN  2935.54\n",
      "..                ...       ...       ...      ...\n",
      "420  0227940 Fund Trf    7682.0       NaN  1046.22\n",
      "422  0818526 Fund Trf    1186.0       NaN  1360.22\n",
      "425  0997323 Fund Trf     442.0       NaN  5558.22\n",
      "428  0183685 Fund Trf    1360.0       NaN  1068.22\n",
      "436  0272098 Fund Trf    3060.0       NaN  5887.22\n",
      "\n",
      "[69 rows x 4 columns]\n",
      "\n",
      "Cluster 11 Transactions:\n",
      "                  Discription  Payments  Receipts   Balance\n",
      "2    0004199071001696 ATM WDR    1030.0       NaN  11289.54\n",
      "6    0004199071001696 ATM WDR    1030.0       NaN   3003.54\n",
      "7    0004199071001696 ATM WDR    1530.0       NaN   1473.54\n",
      "8    0004199071001696 ATM WDR     430.0       NaN   1043.54\n",
      "11   0004199071001696 ATM WDR    2530.0       NaN   3470.54\n",
      "..                        ...       ...       ...       ...\n",
      "426  0004199071001696 ATM WDR    3030.0       NaN   2528.22\n",
      "431           0401635 ATM WDR    3041.0       NaN   3027.22\n",
      "434  0004199071001696 ATM WDR    2030.0       NaN   9067.22\n",
      "438  0004199071001696 ATM WDR    2030.0       NaN   3807.22\n",
      "440  0004199071001696 ATM WDR    2730.0       NaN   1037.22\n",
      "\n",
      "[97 rows x 4 columns]\n",
      "\n",
      "Cluster 12 Transactions:\n",
      "             Discription  Payments  Receipts   Balance\n",
      "19    070524534 BILL PYT     455.0       NaN   1920.54\n",
      "182  0760232652 BILL PYT     100.0       NaN  43733.23\n",
      "187  0760232652 BILL PYT     150.0       NaN  29393.23\n",
      "225  0760232652 BILL PYT     100.0       NaN  18197.97\n",
      "236  0760232652 BILL PYT     200.0       NaN  11140.47\n",
      "242  0760232652 BILL PYT      80.0       NaN   5090.47\n",
      "256  0760232652 BILL PYT     105.0       NaN  21899.43\n",
      "260  0760232652 BILL PYT      60.0       NaN  28680.35\n",
      "364  0764502662 BILL PYT     200.0       NaN   1770.38\n",
      "383  0760232652 BILL PYT     197.0       NaN  12768.31\n",
      "\n",
      "Cluster 13 Transactions:\n",
      "             Discription  Payments  Receipts   Balance\n",
      "170  0711305386 BILL PYT     200.0       NaN  50810.39\n",
      "176  0711305386 BILL PYT     200.0       NaN  34193.23\n",
      "181  0711305386 BILL PYT     300.0       NaN  43833.23\n",
      "303  0711305386 BILL PYT     200.0       NaN   1086.54\n",
      "324  0775170111 BILL PYT     200.0       NaN   6246.40\n",
      "395  0711305386 BILL PYT     200.0       NaN   3770.00\n",
      "\n",
      "Cluster 14 Transactions:\n",
      "             Discription  Payments  Receipts   Balance\n",
      "212  0710620915 BILL PYT    200.00       NaN  11793.23\n",
      "241  0710620915 BILL PYT    250.00       NaN   5170.47\n",
      "244  0710620915 BILL PYT    250.00       NaN   5340.47\n",
      "253  0710620915 BILL PYT    260.00       NaN   6004.43\n",
      "263  0710620915 BILL PYT    100.00       NaN  24620.35\n",
      "280  0710620915 BILL PYT    200.00       NaN   2415.54\n",
      "283  0710620915 BILL PYT     50.00       NaN   9547.54\n",
      "290  0710620915 BILL PYT    100.00       NaN   5927.54\n",
      "298  0710620915 BILL PYT    310.00       NaN   3730.54\n",
      "301  0710620915 BILL PYT    300.00       NaN   1536.54\n",
      "302  0710620915 BILL PYT    250.00       NaN   1286.54\n",
      "307  0710620915 BILL PYT     50.00       NaN   2006.54\n",
      "309  0710620915 BILL PYT    300.00       NaN   1076.54\n",
      "336  0710620915 BILL PYT     50.00       NaN   5874.40\n",
      "341  0710620915 BILL PYT    750.00       NaN   1594.40\n",
      "342  0710620915 BILL PYT    500.00       NaN   1094.40\n",
      "366  0710620915 BILL PYT    209.00       NaN   1000.38\n",
      "369  0710620915 BILL PYT    200.00       NaN   2800.38\n",
      "377  0710620915 BILL PYT    100.00       NaN   1030.38\n",
      "388  0710620915 BILL PYT    150.00       NaN   7620.31\n",
      "392  0710620915 BILL PYT    223.31       NaN   1000.00\n",
      "405  0710620915 BILL PYT    430.00       NaN   1000.00\n",
      "408  0710620915 BILL PYT    460.00       NaN   1000.00\n",
      "417  0710620915 BILL PYT    250.00       NaN   6728.22\n",
      "\n",
      "Cluster 15 Transactions:\n",
      "             Discription  Payments  Receipts   Balance\n",
      "3    0710620915 BILL PYT     250.0       NaN  11039.54\n",
      "9    0710620915 BILL PYT      43.0       NaN   1000.54\n",
      "16   0710620915 BILL PYT      50.0       NaN   2855.54\n",
      "26   0710620915 BILL PYT     250.0       NaN   9605.54\n",
      "29   0710620915 BILL PYT      50.0       NaN   4495.54\n",
      "36   0710620915 BILL PYT     250.0       NaN   7405.54\n",
      "44   0710620915 BILL PYT     250.0       NaN   1767.10\n",
      "46   0710620915 BILL PYT     250.0       NaN  11517.10\n",
      "174  0710620915 BILL PYT     300.0       NaN  50423.23\n",
      "183  0710620915 BILL PYT     100.0       NaN  43633.23\n",
      "190  0710620915 BILL PYT     100.0       NaN  25733.23\n",
      "191  0710620915 BILL PYT     250.0       NaN  25483.23\n",
      "209  0710620915 BILL PYT     200.0       NaN  16553.23\n",
      "227  0710620915 BILL PYT     200.0       NaN  13967.97\n",
      "276  0710620915 BILL PYT     200.0       NaN   2644.57\n",
      "325  0710620915 BILL PYT     150.0       NaN   6096.40\n",
      "361  0710620915 BILL PYT     107.0       NaN   1000.38\n",
      "412  0710620915 BILL PYT     400.0    1600.0   8108.22\n",
      "415  0710620915 BILL PYT     100.0       NaN   7978.22\n",
      "423  0710620915 BILL PYT     360.0       NaN   1000.22\n",
      "435  0710620915 BILL PYT     120.0       NaN   8947.22\n",
      "\n",
      "Cluster 16 Transactions:\n",
      "            Discription  Payments  Receipts   Balance\n",
      "13    0057RB01 DEP(NOV)       NaN    5000.0   6465.54\n",
      "201   0057RB01 DEP(NOV)       NaN    5000.0  17073.23\n",
      "231  0057RB01 DEP (NOV)       NaN    5000.0  11870.47\n",
      "310   0057R511 DEP(NOV)       NaN    3000.0   4076.54\n",
      "367  0057RB01 DEP (NOV)       NaN    2000.0   3000.38\n",
      "411  0057RB01 DEP (NOV)       NaN    7500.0   8508.22\n",
      "\n",
      "Cluster 17 Transactions:\n",
      "           Discription  Payments  Receipts   Balance\n",
      "10   0256RB01 DEP(NOV)       NaN    5000.0   6000.54\n",
      "20   0256RB01 DEP(NOV)       NaN    5000.0   6920.54\n",
      "25   0256RB01 DEP(NOV)       NaN    5000.0   9855.54\n",
      "35   0256RB01 DEP(NOV)       NaN    5000.0   2405.54\n",
      "47   0256RB01 DEP(NOV)       NaN    5000.0  16517.10\n",
      "54   0256RB01 DEP(NOV)       NaN    5000.0   6018.10\n",
      "58   0256RB01 DEP(NOV)       NaN    5000.0   6028.10\n",
      "193  0256RB01 DEP(NOV)       NaN    4000.0  22223.23\n",
      "213  0256RB01 DEP(NOV)       NaN    3000.0  14793.23\n",
      "\n",
      "Cluster 18 Transactions:\n",
      "            Discription  Payments  Receipts   Balance\n",
      "125  0256RB01 DEP (NOV)       NaN    6000.0  57817.38\n",
      "132  0256RB01 DEP (NOV)       NaN    5000.0  60967.38\n",
      "222  0256RB01 DEP (NOV)       NaN   11000.0  12297.97\n",
      "246  0256RB01 DEP (NOV)       NaN    3000.0   7310.47\n",
      "254  0256RB01 DEP (NOV)       NaN    6000.0  12004.43\n",
      "289  0256RB01 DEP (NOV)       NaN    5000.0   6027.54\n",
      "295  0256RB01 DEP (NOV)       NaN    4000.0   5037.54\n",
      "304  0256RB01 DEP (NOV)       NaN    3000.0   4086.54\n",
      "345  0256RB01 DEP (NOV)       NaN    4000.0   5004.40\n",
      "351  0256RB01 DEP (NOV)       NaN    2000.0   3002.38\n",
      "352  0256RB01 DEP (NOV)       NaN   10000.0  13002.38\n",
      "358  0256RB01 DEP (NOV)       NaN    5000.0   6067.38\n",
      "362  0256RB01 DEP (NOV)       NaN    5000.0   6000.38\n",
      "371  0256RB01 DEP (NOV)       NaN    5000.0   6270.38\n",
      "374  0256RB01 DEP (NOV)       NaN    5000.0   6190.38\n",
      "381  0256RB01 DEP (NOV)       NaN   15000.0  15995.31\n",
      "387  0256RB01 DEP (NOV)       NaN    5000.0   7770.31\n",
      "393  0256RB01 DEP (NOV)       NaN    5000.0   6000.00\n",
      "398  0256RB01 DEP (NOV)       NaN    3500.0   4540.00\n",
      "401  0256RB01 DEP (NOV)       NaN    1500.0   2510.00\n",
      "403  0256RB01 DEP (NOV)       NaN       NaN   2960.00\n",
      "421  0256RB01 DEP (NOV)       NaN    1500.0   2546.22\n",
      "424  0256RB01 DEP (NOV)       NaN    5000.0   6000.22\n",
      "\n",
      "Cluster -1 Transactions:\n",
      "            Discription  Payments  Receipts   Balance\n",
      "1       Initial Balance       NaN       NaN  12319.54\n",
      "12    0313AB02 ATM(NOV)    2005.0       NaN   1465.54\n",
      "21    0313AB01 ATM(NOV)    1005.0       NaN   5915.54\n",
      "22    0313RB01 DEP(NOV)       NaN   10000.0  15915.54\n",
      "32                            NaN       NaN       NaN\n",
      "..                  ...       ...       ...       ...\n",
      "419  0057RS11 DEP (NOV)       NaN    1000.0   8728.22\n",
      "427  710620915 BILL PYT     100.0       NaN   2428.22\n",
      "429  0003RB02 DEP (NOV)       NaN    5000.0   6068.22\n",
      "432       4199071001696    1930.0       NaN   1097.22\n",
      "433  0059RR21 DEP (NOV)       NaN   10000.0  11097.22\n",
      "\n",
      "[67 rows x 4 columns]\n"
     ]
    }
   ],
   "execution_count": 7
  },
  {
   "metadata": {},
   "cell_type": "code",
   "outputs": [],
   "execution_count": null,
   "source": "",
   "id": "53948ae3b8702665"
  }
 ],
 "metadata": {
  "kernelspec": {
   "display_name": "Python 3",
   "language": "python",
   "name": "python3"
  },
  "language_info": {
   "codemirror_mode": {
    "name": "ipython",
    "version": 2
   },
   "file_extension": ".py",
   "mimetype": "text/x-python",
   "name": "python",
   "nbconvert_exporter": "python",
   "pygments_lexer": "ipython2",
   "version": "2.7.6"
  }
 },
 "nbformat": 4,
 "nbformat_minor": 5
}
